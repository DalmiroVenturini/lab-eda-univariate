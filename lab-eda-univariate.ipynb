{
 "cells": [
  {
   "cell_type": "markdown",
   "metadata": {},
   "source": [
    "<h1>Starting</h1>"
   ]
  },
  {
   "cell_type": "markdown",
   "metadata": {},
   "source": [
    "Importing Libraries "
   ]
  },
  {
   "cell_type": "code",
   "execution_count": 1,
   "metadata": {},
   "outputs": [],
   "source": [
    "import pandas as pd\n",
    "import matplotlib.pyplot as plt\n",
    "import seaborn as sns\n",
    "import numpy as np\n",
    "\n",
    "%matplotlib inline\n",
    "pd.set_option('display.max_columns', None)"
   ]
  },
  {
   "cell_type": "markdown",
   "metadata": {},
   "source": [
    "Reading CSV"
   ]
  },
  {
   "cell_type": "code",
   "execution_count": 2,
   "metadata": {},
   "outputs": [
    {
     "data": {
      "text/html": [
       "<div>\n",
       "<style scoped>\n",
       "    .dataframe tbody tr th:only-of-type {\n",
       "        vertical-align: middle;\n",
       "    }\n",
       "\n",
       "    .dataframe tbody tr th {\n",
       "        vertical-align: top;\n",
       "    }\n",
       "\n",
       "    .dataframe thead th {\n",
       "        text-align: right;\n",
       "    }\n",
       "</style>\n",
       "<table border=\"1\" class=\"dataframe\">\n",
       "  <thead>\n",
       "    <tr style=\"text-align: right;\">\n",
       "      <th></th>\n",
       "      <th>uid</th>\n",
       "      <th>asin</th>\n",
       "      <th>title</th>\n",
       "      <th>stars</th>\n",
       "      <th>reviews</th>\n",
       "      <th>price</th>\n",
       "      <th>isBestSeller</th>\n",
       "      <th>boughtInLastMonth</th>\n",
       "      <th>category</th>\n",
       "    </tr>\n",
       "  </thead>\n",
       "  <tbody>\n",
       "    <tr>\n",
       "      <th>0</th>\n",
       "      <td>1</td>\n",
       "      <td>B09B96TG33</td>\n",
       "      <td>Echo Dot (5th generation, 2022 release) | Big ...</td>\n",
       "      <td>4.7</td>\n",
       "      <td>15308</td>\n",
       "      <td>21.99</td>\n",
       "      <td>False</td>\n",
       "      <td>0</td>\n",
       "      <td>Hi-Fi Speakers</td>\n",
       "    </tr>\n",
       "    <tr>\n",
       "      <th>1</th>\n",
       "      <td>2</td>\n",
       "      <td>B01HTH3C8S</td>\n",
       "      <td>Anker Soundcore mini, Super-Portable Bluetooth...</td>\n",
       "      <td>4.7</td>\n",
       "      <td>98099</td>\n",
       "      <td>23.99</td>\n",
       "      <td>True</td>\n",
       "      <td>0</td>\n",
       "      <td>Hi-Fi Speakers</td>\n",
       "    </tr>\n",
       "    <tr>\n",
       "      <th>2</th>\n",
       "      <td>3</td>\n",
       "      <td>B09B8YWXDF</td>\n",
       "      <td>Echo Dot (5th generation, 2022 release) | Big ...</td>\n",
       "      <td>4.7</td>\n",
       "      <td>15308</td>\n",
       "      <td>21.99</td>\n",
       "      <td>False</td>\n",
       "      <td>0</td>\n",
       "      <td>Hi-Fi Speakers</td>\n",
       "    </tr>\n",
       "    <tr>\n",
       "      <th>3</th>\n",
       "      <td>4</td>\n",
       "      <td>B09B8T5VGV</td>\n",
       "      <td>Echo Dot with clock (5th generation, 2022 rele...</td>\n",
       "      <td>4.7</td>\n",
       "      <td>7205</td>\n",
       "      <td>31.99</td>\n",
       "      <td>False</td>\n",
       "      <td>0</td>\n",
       "      <td>Hi-Fi Speakers</td>\n",
       "    </tr>\n",
       "    <tr>\n",
       "      <th>4</th>\n",
       "      <td>5</td>\n",
       "      <td>B09WX6QD65</td>\n",
       "      <td>Introducing Echo Pop | Full sound compact Wi-F...</td>\n",
       "      <td>4.6</td>\n",
       "      <td>1881</td>\n",
       "      <td>17.99</td>\n",
       "      <td>False</td>\n",
       "      <td>0</td>\n",
       "      <td>Hi-Fi Speakers</td>\n",
       "    </tr>\n",
       "    <tr>\n",
       "      <th>...</th>\n",
       "      <td>...</td>\n",
       "      <td>...</td>\n",
       "      <td>...</td>\n",
       "      <td>...</td>\n",
       "      <td>...</td>\n",
       "      <td>...</td>\n",
       "      <td>...</td>\n",
       "      <td>...</td>\n",
       "      <td>...</td>\n",
       "    </tr>\n",
       "    <tr>\n",
       "      <th>2443646</th>\n",
       "      <td>2828589</td>\n",
       "      <td>B0CHSD7P2Q</td>\n",
       "      <td>Motorbike Armour, Motorbike Clothing, Cycling ...</td>\n",
       "      <td>0.0</td>\n",
       "      <td>0</td>\n",
       "      <td>22.34</td>\n",
       "      <td>False</td>\n",
       "      <td>0</td>\n",
       "      <td>Motorbike Clothing</td>\n",
       "    </tr>\n",
       "    <tr>\n",
       "      <th>2443647</th>\n",
       "      <td>2828590</td>\n",
       "      <td>B0B7B8FNBQ</td>\n",
       "      <td>PROFIRST Waterproof Motorcycle 2 Piece Ladies ...</td>\n",
       "      <td>0.0</td>\n",
       "      <td>0</td>\n",
       "      <td>97.99</td>\n",
       "      <td>False</td>\n",
       "      <td>0</td>\n",
       "      <td>Motorbike Clothing</td>\n",
       "    </tr>\n",
       "    <tr>\n",
       "      <th>2443648</th>\n",
       "      <td>2828591</td>\n",
       "      <td>B0BD5FL5FB</td>\n",
       "      <td>Men’s Motorcycle Motorbike Biker Trousers Kevl...</td>\n",
       "      <td>0.0</td>\n",
       "      <td>0</td>\n",
       "      <td>52.99</td>\n",
       "      <td>False</td>\n",
       "      <td>0</td>\n",
       "      <td>Motorbike Clothing</td>\n",
       "    </tr>\n",
       "    <tr>\n",
       "      <th>2443649</th>\n",
       "      <td>2828592</td>\n",
       "      <td>B008OYLL4I</td>\n",
       "      <td>Texpeed Mens Motorcycle Motorbike Biker Trouse...</td>\n",
       "      <td>4.3</td>\n",
       "      <td>404</td>\n",
       "      <td>79.99</td>\n",
       "      <td>False</td>\n",
       "      <td>0</td>\n",
       "      <td>Motorbike Clothing</td>\n",
       "    </tr>\n",
       "    <tr>\n",
       "      <th>2443650</th>\n",
       "      <td>2828593</td>\n",
       "      <td>B08P3W9B3T</td>\n",
       "      <td>RIDEX CJ223 Motorcycle Motorbike Jacket Armour...</td>\n",
       "      <td>4.5</td>\n",
       "      <td>34</td>\n",
       "      <td>53.99</td>\n",
       "      <td>False</td>\n",
       "      <td>0</td>\n",
       "      <td>Motorbike Clothing</td>\n",
       "    </tr>\n",
       "  </tbody>\n",
       "</table>\n",
       "<p>2443651 rows × 9 columns</p>\n",
       "</div>"
      ],
      "text/plain": [
       "             uid        asin  \\\n",
       "0              1  B09B96TG33   \n",
       "1              2  B01HTH3C8S   \n",
       "2              3  B09B8YWXDF   \n",
       "3              4  B09B8T5VGV   \n",
       "4              5  B09WX6QD65   \n",
       "...          ...         ...   \n",
       "2443646  2828589  B0CHSD7P2Q   \n",
       "2443647  2828590  B0B7B8FNBQ   \n",
       "2443648  2828591  B0BD5FL5FB   \n",
       "2443649  2828592  B008OYLL4I   \n",
       "2443650  2828593  B08P3W9B3T   \n",
       "\n",
       "                                                     title  stars  reviews  \\\n",
       "0        Echo Dot (5th generation, 2022 release) | Big ...    4.7    15308   \n",
       "1        Anker Soundcore mini, Super-Portable Bluetooth...    4.7    98099   \n",
       "2        Echo Dot (5th generation, 2022 release) | Big ...    4.7    15308   \n",
       "3        Echo Dot with clock (5th generation, 2022 rele...    4.7     7205   \n",
       "4        Introducing Echo Pop | Full sound compact Wi-F...    4.6     1881   \n",
       "...                                                    ...    ...      ...   \n",
       "2443646  Motorbike Armour, Motorbike Clothing, Cycling ...    0.0        0   \n",
       "2443647  PROFIRST Waterproof Motorcycle 2 Piece Ladies ...    0.0        0   \n",
       "2443648  Men’s Motorcycle Motorbike Biker Trousers Kevl...    0.0        0   \n",
       "2443649  Texpeed Mens Motorcycle Motorbike Biker Trouse...    4.3      404   \n",
       "2443650  RIDEX CJ223 Motorcycle Motorbike Jacket Armour...    4.5       34   \n",
       "\n",
       "         price  isBestSeller  boughtInLastMonth            category  \n",
       "0        21.99         False                  0      Hi-Fi Speakers  \n",
       "1        23.99          True                  0      Hi-Fi Speakers  \n",
       "2        21.99         False                  0      Hi-Fi Speakers  \n",
       "3        31.99         False                  0      Hi-Fi Speakers  \n",
       "4        17.99         False                  0      Hi-Fi Speakers  \n",
       "...        ...           ...                ...                 ...  \n",
       "2443646  22.34         False                  0  Motorbike Clothing  \n",
       "2443647  97.99         False                  0  Motorbike Clothing  \n",
       "2443648  52.99         False                  0  Motorbike Clothing  \n",
       "2443649  79.99         False                  0  Motorbike Clothing  \n",
       "2443650  53.99         False                  0  Motorbike Clothing  \n",
       "\n",
       "[2443651 rows x 9 columns]"
      ]
     },
     "execution_count": 2,
     "metadata": {},
     "output_type": "execute_result"
    }
   ],
   "source": [
    "# Loading the amazon price prediction dataset (assuming the file name is \"amz_uk_price_prediction_dataset.csv\")\n",
    "\n",
    "amz_price_df = pd.read_csv(\"C:/Users/dalmi/Documents/España/Data Analytics - IronHack/Labs/Semana 4/lab-eda-univariate/amz_uk_price_prediction_dataset.csv\")\n",
    "amz_price_df"
   ]
  },
  {
   "cell_type": "markdown",
   "metadata": {},
   "source": [
    "Data OverView"
   ]
  },
  {
   "cell_type": "code",
   "execution_count": 3,
   "metadata": {},
   "outputs": [
    {
     "data": {
      "text/plain": [
       "(2443651, 9)"
      ]
     },
     "execution_count": 3,
     "metadata": {},
     "output_type": "execute_result"
    }
   ],
   "source": [
    "amz_price_df.shape"
   ]
  },
  {
   "cell_type": "code",
   "execution_count": 4,
   "metadata": {},
   "outputs": [
    {
     "name": "stdout",
     "output_type": "stream",
     "text": [
      "<class 'pandas.core.frame.DataFrame'>\n",
      "RangeIndex: 2443651 entries, 0 to 2443650\n",
      "Data columns (total 9 columns):\n",
      " #   Column             Dtype  \n",
      "---  ------             -----  \n",
      " 0   uid                int64  \n",
      " 1   asin               object \n",
      " 2   title              object \n",
      " 3   stars              float64\n",
      " 4   reviews            int64  \n",
      " 5   price              float64\n",
      " 6   isBestSeller       bool   \n",
      " 7   boughtInLastMonth  int64  \n",
      " 8   category           object \n",
      "dtypes: bool(1), float64(2), int64(3), object(3)\n",
      "memory usage: 151.5+ MB\n"
     ]
    }
   ],
   "source": [
    "amz_price_df.info()"
   ]
  },
  {
   "cell_type": "markdown",
   "metadata": {},
   "source": [
    "Variable Clasification:\n",
    "Numerical & Categorical"
   ]
  },
  {
   "cell_type": "code",
   "execution_count": 5,
   "metadata": {},
   "outputs": [],
   "source": [
    "# Separamos en un dataframe llamado num las numericas y en un dataframe llamado \"cat\" las categoricas\n",
    "amz_price_num = amz_price_df.select_dtypes(include=\"number\")\n",
    "amz_price_cat = amz_price_df.select_dtypes(exclude=\"number\")"
   ]
  },
  {
   "cell_type": "code",
   "execution_count": 6,
   "metadata": {},
   "outputs": [
    {
     "data": {
      "text/html": [
       "<div>\n",
       "<style scoped>\n",
       "    .dataframe tbody tr th:only-of-type {\n",
       "        vertical-align: middle;\n",
       "    }\n",
       "\n",
       "    .dataframe tbody tr th {\n",
       "        vertical-align: top;\n",
       "    }\n",
       "\n",
       "    .dataframe thead th {\n",
       "        text-align: right;\n",
       "    }\n",
       "</style>\n",
       "<table border=\"1\" class=\"dataframe\">\n",
       "  <thead>\n",
       "    <tr style=\"text-align: right;\">\n",
       "      <th></th>\n",
       "      <th>uid</th>\n",
       "      <th>stars</th>\n",
       "      <th>reviews</th>\n",
       "      <th>price</th>\n",
       "      <th>boughtInLastMonth</th>\n",
       "    </tr>\n",
       "  </thead>\n",
       "  <tbody>\n",
       "    <tr>\n",
       "      <th>0</th>\n",
       "      <td>1</td>\n",
       "      <td>4.7</td>\n",
       "      <td>15308</td>\n",
       "      <td>21.99</td>\n",
       "      <td>0</td>\n",
       "    </tr>\n",
       "    <tr>\n",
       "      <th>1</th>\n",
       "      <td>2</td>\n",
       "      <td>4.7</td>\n",
       "      <td>98099</td>\n",
       "      <td>23.99</td>\n",
       "      <td>0</td>\n",
       "    </tr>\n",
       "    <tr>\n",
       "      <th>2</th>\n",
       "      <td>3</td>\n",
       "      <td>4.7</td>\n",
       "      <td>15308</td>\n",
       "      <td>21.99</td>\n",
       "      <td>0</td>\n",
       "    </tr>\n",
       "    <tr>\n",
       "      <th>3</th>\n",
       "      <td>4</td>\n",
       "      <td>4.7</td>\n",
       "      <td>7205</td>\n",
       "      <td>31.99</td>\n",
       "      <td>0</td>\n",
       "    </tr>\n",
       "    <tr>\n",
       "      <th>4</th>\n",
       "      <td>5</td>\n",
       "      <td>4.6</td>\n",
       "      <td>1881</td>\n",
       "      <td>17.99</td>\n",
       "      <td>0</td>\n",
       "    </tr>\n",
       "  </tbody>\n",
       "</table>\n",
       "</div>"
      ],
      "text/plain": [
       "   uid  stars  reviews  price  boughtInLastMonth\n",
       "0    1    4.7    15308  21.99                  0\n",
       "1    2    4.7    98099  23.99                  0\n",
       "2    3    4.7    15308  21.99                  0\n",
       "3    4    4.7     7205  31.99                  0\n",
       "4    5    4.6     1881  17.99                  0"
      ]
     },
     "execution_count": 6,
     "metadata": {},
     "output_type": "execute_result"
    }
   ],
   "source": [
    "amz_price_num.head()"
   ]
  },
  {
   "cell_type": "code",
   "execution_count": 7,
   "metadata": {},
   "outputs": [
    {
     "data": {
      "text/html": [
       "<div>\n",
       "<style scoped>\n",
       "    .dataframe tbody tr th:only-of-type {\n",
       "        vertical-align: middle;\n",
       "    }\n",
       "\n",
       "    .dataframe tbody tr th {\n",
       "        vertical-align: top;\n",
       "    }\n",
       "\n",
       "    .dataframe thead th {\n",
       "        text-align: right;\n",
       "    }\n",
       "</style>\n",
       "<table border=\"1\" class=\"dataframe\">\n",
       "  <thead>\n",
       "    <tr style=\"text-align: right;\">\n",
       "      <th></th>\n",
       "      <th>asin</th>\n",
       "      <th>title</th>\n",
       "      <th>isBestSeller</th>\n",
       "      <th>category</th>\n",
       "    </tr>\n",
       "  </thead>\n",
       "  <tbody>\n",
       "    <tr>\n",
       "      <th>0</th>\n",
       "      <td>B09B96TG33</td>\n",
       "      <td>Echo Dot (5th generation, 2022 release) | Big ...</td>\n",
       "      <td>False</td>\n",
       "      <td>Hi-Fi Speakers</td>\n",
       "    </tr>\n",
       "    <tr>\n",
       "      <th>1</th>\n",
       "      <td>B01HTH3C8S</td>\n",
       "      <td>Anker Soundcore mini, Super-Portable Bluetooth...</td>\n",
       "      <td>True</td>\n",
       "      <td>Hi-Fi Speakers</td>\n",
       "    </tr>\n",
       "    <tr>\n",
       "      <th>2</th>\n",
       "      <td>B09B8YWXDF</td>\n",
       "      <td>Echo Dot (5th generation, 2022 release) | Big ...</td>\n",
       "      <td>False</td>\n",
       "      <td>Hi-Fi Speakers</td>\n",
       "    </tr>\n",
       "    <tr>\n",
       "      <th>3</th>\n",
       "      <td>B09B8T5VGV</td>\n",
       "      <td>Echo Dot with clock (5th generation, 2022 rele...</td>\n",
       "      <td>False</td>\n",
       "      <td>Hi-Fi Speakers</td>\n",
       "    </tr>\n",
       "    <tr>\n",
       "      <th>4</th>\n",
       "      <td>B09WX6QD65</td>\n",
       "      <td>Introducing Echo Pop | Full sound compact Wi-F...</td>\n",
       "      <td>False</td>\n",
       "      <td>Hi-Fi Speakers</td>\n",
       "    </tr>\n",
       "  </tbody>\n",
       "</table>\n",
       "</div>"
      ],
      "text/plain": [
       "         asin                                              title  \\\n",
       "0  B09B96TG33  Echo Dot (5th generation, 2022 release) | Big ...   \n",
       "1  B01HTH3C8S  Anker Soundcore mini, Super-Portable Bluetooth...   \n",
       "2  B09B8YWXDF  Echo Dot (5th generation, 2022 release) | Big ...   \n",
       "3  B09B8T5VGV  Echo Dot with clock (5th generation, 2022 rele...   \n",
       "4  B09WX6QD65  Introducing Echo Pop | Full sound compact Wi-F...   \n",
       "\n",
       "   isBestSeller        category  \n",
       "0         False  Hi-Fi Speakers  \n",
       "1          True  Hi-Fi Speakers  \n",
       "2         False  Hi-Fi Speakers  \n",
       "3         False  Hi-Fi Speakers  \n",
       "4         False  Hi-Fi Speakers  "
      ]
     },
     "execution_count": 7,
     "metadata": {},
     "output_type": "execute_result"
    }
   ],
   "source": [
    "amz_price_cat.head()"
   ]
  },
  {
   "cell_type": "code",
   "execution_count": 8,
   "metadata": {},
   "outputs": [
    {
     "data": {
      "text/plain": [
       "uid                  2443651\n",
       "stars                     42\n",
       "reviews                19446\n",
       "price                  82916\n",
       "boughtInLastMonth         25\n",
       "dtype: int64"
      ]
     },
     "execution_count": 8,
     "metadata": {},
     "output_type": "execute_result"
    }
   ],
   "source": [
    "amz_price_num.nunique()"
   ]
  },
  {
   "cell_type": "code",
   "execution_count": 9,
   "metadata": {},
   "outputs": [
    {
     "data": {
      "text/plain": [
       "asin            2222742\n",
       "title           2077591\n",
       "isBestSeller          2\n",
       "category            296\n",
       "dtype: int64"
      ]
     },
     "execution_count": 9,
     "metadata": {},
     "output_type": "execute_result"
    }
   ],
   "source": [
    "amz_price_cat.nunique()"
   ]
  },
  {
   "cell_type": "code",
   "execution_count": 10,
   "metadata": {},
   "outputs": [
    {
     "data": {
      "text/plain": [
       "uid      stars  reviews  price   boughtInLastMonth\n",
       "1        4.7    15308    21.99   0                    1\n",
       "1833462  0.0    0        58.97   0                    1\n",
       "1833464  0.0    0        76.97   0                    1\n",
       "1833465  0.0    0        85.97   0                    1\n",
       "1833466  4.2    110      162.51  0                    1\n",
       "                                                     ..\n",
       "889449   4.0    1        8.54    0                    1\n",
       "889450   4.2    25       9.99    0                    1\n",
       "889451   4.4    42       477.00  0                    1\n",
       "889452   4.8    19       3.99    0                    1\n",
       "2828593  4.5    34       53.99   0                    1\n",
       "Name: count, Length: 2443651, dtype: int64"
      ]
     },
     "execution_count": 10,
     "metadata": {},
     "output_type": "execute_result"
    }
   ],
   "source": [
    "amz_price_num.value_counts()"
   ]
  },
  {
   "cell_type": "code",
   "execution_count": 11,
   "metadata": {},
   "outputs": [
    {
     "data": {
      "text/plain": [
       "asin        title                                                                                                                                                                                    isBestSeller  category            \n",
       "0000060259  Lakme Jewel Sindoor (Maroon) Pack Of 2                                                                                                                                                   False         Make-up                 1\n",
       "B0BV2BJGF5  Warmhm Mic Belt Microphone Carrier Pouch Adjustable Anti Dropping Strap Microphone Waist Holder Pack for Fitness Instructors Theater Speakers                                            False         Recording & Computer    1\n",
       "B0BV2BKB6C  South Sudan Watercolor Map art print poster, FRAMED with mount option -10941                                                                                                             False         Handmade Artwork        1\n",
       "B0BV2BKG26  HEEPDD Compression Sports Shorts, Polyester Compression Shorts Improve Pain for Sports for Men                                                                                           False         Sports & Outdoors       1\n",
       "B0BV2BKH1P  Sudemota S866 Bicycle Display LCD Meter for Intelligent Controller Electric Bicycle Panel Connector Bicycle, 36V-48V B                                                                   False         Sports & Outdoors       1\n",
       "                                                                                                                                                                                                                                          ..\n",
       "B08QFMFLXD  EEEKit Vertical Stand Cooling Fan for PS4,PS4 Stand Cooler with Dual Controllers Charging Dock and 2 Fans Cooling Station with USB HUB,PS4 Organizer Stand Compatible with Original PS4  False         PC & Video Games        1\n",
       "B08QFMWFHS  Balacoo Laptops Case Fan Screw Kit- Screws Set for Case Fan 60pcs Lightweight Practical Case Fan Screw Flat Head Case Fan Laptop                                                         False         Computer Screws         1\n",
       "B08QFMWKMZ  EXCEART Tennis Accessories 4pcs Tennis Racket Model Realistic Mini Resin Tennis Racket Model Mini Simulation Tennis Racket Models for Accessories Micro Tennis Racket Model              False         Sports & Outdoors       1\n",
       "B08QFMX839  Honored Knitted drizzle winter ladies hats - warm, short fat, soft stretch, thick and lovely knitted cap, suitable for cold weather (Color : Yellow)                                     False         Sports & Outdoors       1\n",
       "B0CL2RGL8C  VGEBY Table Tennis Net and Post, Ping Pong Net Easy Setup Folding Adjustable Table Tennis Mesh Net with Screw On Clamp                                                                   False         Table Tennis            1\n",
       "Name: count, Length: 2443651, dtype: int64"
      ]
     },
     "execution_count": 11,
     "metadata": {},
     "output_type": "execute_result"
    }
   ],
   "source": [
    "amz_price_cat.value_counts()"
   ]
  },
  {
   "cell_type": "markdown",
   "metadata": {},
   "source": [
    "<h1>Part 1: Understanding Product Categories</h1>"
   ]
  },
  {
   "cell_type": "markdown",
   "metadata": {},
   "source": [
    "**Business Question**: What are the most popular product categories on Amazon UK, and how do they compare in terms of listing frequency?"
   ]
  },
  {
   "cell_type": "markdown",
   "metadata": {},
   "source": [
    "1. **Frequency Tables**:\n",
    "    - Generate a frequency table for the product `category`.\n",
    "    - Which are the top 5 most listed product categories?"
   ]
  },
  {
   "cell_type": "code",
   "execution_count": 12,
   "metadata": {},
   "outputs": [
    {
     "data": {
      "text/html": [
       "<div>\n",
       "<style scoped>\n",
       "    .dataframe tbody tr th:only-of-type {\n",
       "        vertical-align: middle;\n",
       "    }\n",
       "\n",
       "    .dataframe tbody tr th {\n",
       "        vertical-align: top;\n",
       "    }\n",
       "\n",
       "    .dataframe thead th {\n",
       "        text-align: right;\n",
       "    }\n",
       "</style>\n",
       "<table border=\"1\" class=\"dataframe\">\n",
       "  <thead>\n",
       "    <tr style=\"text-align: right;\">\n",
       "      <th></th>\n",
       "      <th>category</th>\n",
       "      <th>count</th>\n",
       "    </tr>\n",
       "  </thead>\n",
       "  <tbody>\n",
       "    <tr>\n",
       "      <th>0</th>\n",
       "      <td>Sports &amp; Outdoors</td>\n",
       "      <td>836265</td>\n",
       "    </tr>\n",
       "    <tr>\n",
       "      <th>1</th>\n",
       "      <td>Beauty</td>\n",
       "      <td>19312</td>\n",
       "    </tr>\n",
       "    <tr>\n",
       "      <th>2</th>\n",
       "      <td>Handmade Clothing, Shoes &amp; Accessories</td>\n",
       "      <td>19229</td>\n",
       "    </tr>\n",
       "    <tr>\n",
       "      <th>3</th>\n",
       "      <td>Bath &amp; Body</td>\n",
       "      <td>19092</td>\n",
       "    </tr>\n",
       "    <tr>\n",
       "      <th>4</th>\n",
       "      <td>Birthday Gifts</td>\n",
       "      <td>18978</td>\n",
       "    </tr>\n",
       "    <tr>\n",
       "      <th>...</th>\n",
       "      <td>...</td>\n",
       "      <td>...</td>\n",
       "    </tr>\n",
       "    <tr>\n",
       "      <th>291</th>\n",
       "      <td>Alexa Built-In Devices</td>\n",
       "      <td>107</td>\n",
       "    </tr>\n",
       "    <tr>\n",
       "      <th>292</th>\n",
       "      <td>Motorbike Chassis</td>\n",
       "      <td>107</td>\n",
       "    </tr>\n",
       "    <tr>\n",
       "      <th>293</th>\n",
       "      <td>Plugs</td>\n",
       "      <td>107</td>\n",
       "    </tr>\n",
       "    <tr>\n",
       "      <th>294</th>\n",
       "      <td>Smart Home Security &amp; Lighting</td>\n",
       "      <td>104</td>\n",
       "    </tr>\n",
       "    <tr>\n",
       "      <th>295</th>\n",
       "      <td>Smart Speakers</td>\n",
       "      <td>54</td>\n",
       "    </tr>\n",
       "  </tbody>\n",
       "</table>\n",
       "<p>296 rows × 2 columns</p>\n",
       "</div>"
      ],
      "text/plain": [
       "                                   category   count\n",
       "0                         Sports & Outdoors  836265\n",
       "1                                    Beauty   19312\n",
       "2    Handmade Clothing, Shoes & Accessories   19229\n",
       "3                               Bath & Body   19092\n",
       "4                            Birthday Gifts   18978\n",
       "..                                      ...     ...\n",
       "291                  Alexa Built-In Devices     107\n",
       "292                       Motorbike Chassis     107\n",
       "293                                   Plugs     107\n",
       "294          Smart Home Security & Lighting     104\n",
       "295                          Smart Speakers      54\n",
       "\n",
       "[296 rows x 2 columns]"
      ]
     },
     "execution_count": 12,
     "metadata": {},
     "output_type": "execute_result"
    }
   ],
   "source": [
    "#Absolute Frequency Table for Product Categories\n",
    "\n",
    "freq_abs_amz_price_table = amz_price_df[\"category\"].value_counts().reset_index()\n",
    "freq_abs_amz_price_table"
   ]
  },
  {
   "cell_type": "code",
   "execution_count": 13,
   "metadata": {},
   "outputs": [
    {
     "data": {
      "text/html": [
       "<div>\n",
       "<style scoped>\n",
       "    .dataframe tbody tr th:only-of-type {\n",
       "        vertical-align: middle;\n",
       "    }\n",
       "\n",
       "    .dataframe tbody tr th {\n",
       "        vertical-align: top;\n",
       "    }\n",
       "\n",
       "    .dataframe thead th {\n",
       "        text-align: right;\n",
       "    }\n",
       "</style>\n",
       "<table border=\"1\" class=\"dataframe\">\n",
       "  <thead>\n",
       "    <tr style=\"text-align: right;\">\n",
       "      <th></th>\n",
       "      <th>categorie</th>\n",
       "      <th>absolute_frequency</th>\n",
       "    </tr>\n",
       "  </thead>\n",
       "  <tbody>\n",
       "    <tr>\n",
       "      <th>0</th>\n",
       "      <td>Sports &amp; Outdoors</td>\n",
       "      <td>836265</td>\n",
       "    </tr>\n",
       "    <tr>\n",
       "      <th>1</th>\n",
       "      <td>Beauty</td>\n",
       "      <td>19312</td>\n",
       "    </tr>\n",
       "    <tr>\n",
       "      <th>2</th>\n",
       "      <td>Handmade Clothing, Shoes &amp; Accessories</td>\n",
       "      <td>19229</td>\n",
       "    </tr>\n",
       "    <tr>\n",
       "      <th>3</th>\n",
       "      <td>Bath &amp; Body</td>\n",
       "      <td>19092</td>\n",
       "    </tr>\n",
       "    <tr>\n",
       "      <th>4</th>\n",
       "      <td>Birthday Gifts</td>\n",
       "      <td>18978</td>\n",
       "    </tr>\n",
       "    <tr>\n",
       "      <th>...</th>\n",
       "      <td>...</td>\n",
       "      <td>...</td>\n",
       "    </tr>\n",
       "    <tr>\n",
       "      <th>291</th>\n",
       "      <td>Alexa Built-In Devices</td>\n",
       "      <td>107</td>\n",
       "    </tr>\n",
       "    <tr>\n",
       "      <th>292</th>\n",
       "      <td>Motorbike Chassis</td>\n",
       "      <td>107</td>\n",
       "    </tr>\n",
       "    <tr>\n",
       "      <th>293</th>\n",
       "      <td>Plugs</td>\n",
       "      <td>107</td>\n",
       "    </tr>\n",
       "    <tr>\n",
       "      <th>294</th>\n",
       "      <td>Smart Home Security &amp; Lighting</td>\n",
       "      <td>104</td>\n",
       "    </tr>\n",
       "    <tr>\n",
       "      <th>295</th>\n",
       "      <td>Smart Speakers</td>\n",
       "      <td>54</td>\n",
       "    </tr>\n",
       "  </tbody>\n",
       "</table>\n",
       "<p>296 rows × 2 columns</p>\n",
       "</div>"
      ],
      "text/plain": [
       "                                  categorie  absolute_frequency\n",
       "0                         Sports & Outdoors              836265\n",
       "1                                    Beauty               19312\n",
       "2    Handmade Clothing, Shoes & Accessories               19229\n",
       "3                               Bath & Body               19092\n",
       "4                            Birthday Gifts               18978\n",
       "..                                      ...                 ...\n",
       "291                  Alexa Built-In Devices                 107\n",
       "292                       Motorbike Chassis                 107\n",
       "293                                   Plugs                 107\n",
       "294          Smart Home Security & Lighting                 104\n",
       "295                          Smart Speakers                  54\n",
       "\n",
       "[296 rows x 2 columns]"
      ]
     },
     "execution_count": 13,
     "metadata": {},
     "output_type": "execute_result"
    }
   ],
   "source": [
    "#Define Column Names\n",
    "\n",
    "freq_abs_amz_price_table.columns = [\"categorie\", \"absolute_frequency\"]\n",
    "freq_abs_amz_price_table"
   ]
  },
  {
   "cell_type": "code",
   "execution_count": 14,
   "metadata": {},
   "outputs": [
    {
     "data": {
      "text/html": [
       "<div>\n",
       "<style scoped>\n",
       "    .dataframe tbody tr th:only-of-type {\n",
       "        vertical-align: middle;\n",
       "    }\n",
       "\n",
       "    .dataframe tbody tr th {\n",
       "        vertical-align: top;\n",
       "    }\n",
       "\n",
       "    .dataframe thead th {\n",
       "        text-align: right;\n",
       "    }\n",
       "</style>\n",
       "<table border=\"1\" class=\"dataframe\">\n",
       "  <thead>\n",
       "    <tr style=\"text-align: right;\">\n",
       "      <th></th>\n",
       "      <th>categorie</th>\n",
       "      <th>absolute_frequency</th>\n",
       "    </tr>\n",
       "  </thead>\n",
       "  <tbody>\n",
       "    <tr>\n",
       "      <th>0</th>\n",
       "      <td>Sports &amp; Outdoors</td>\n",
       "      <td>836265</td>\n",
       "    </tr>\n",
       "    <tr>\n",
       "      <th>1</th>\n",
       "      <td>Beauty</td>\n",
       "      <td>19312</td>\n",
       "    </tr>\n",
       "    <tr>\n",
       "      <th>2</th>\n",
       "      <td>Handmade Clothing, Shoes &amp; Accessories</td>\n",
       "      <td>19229</td>\n",
       "    </tr>\n",
       "    <tr>\n",
       "      <th>3</th>\n",
       "      <td>Bath &amp; Body</td>\n",
       "      <td>19092</td>\n",
       "    </tr>\n",
       "    <tr>\n",
       "      <th>4</th>\n",
       "      <td>Birthday Gifts</td>\n",
       "      <td>18978</td>\n",
       "    </tr>\n",
       "  </tbody>\n",
       "</table>\n",
       "</div>"
      ],
      "text/plain": [
       "                                categorie  absolute_frequency\n",
       "0                       Sports & Outdoors              836265\n",
       "1                                  Beauty               19312\n",
       "2  Handmade Clothing, Shoes & Accessories               19229\n",
       "3                             Bath & Body               19092\n",
       "4                          Birthday Gifts               18978"
      ]
     },
     "execution_count": 14,
     "metadata": {},
     "output_type": "execute_result"
    }
   ],
   "source": [
    "#Top 5 Most Listed Product Categories\n",
    "\n",
    "top5_freq_abs_amz_price_table = freq_abs_amz_price_table.head()\n",
    "top5_freq_abs_amz_price_table"
   ]
  },
  {
   "cell_type": "code",
   "execution_count": 15,
   "metadata": {},
   "outputs": [
    {
     "data": {
      "text/html": [
       "<div>\n",
       "<style scoped>\n",
       "    .dataframe tbody tr th:only-of-type {\n",
       "        vertical-align: middle;\n",
       "    }\n",
       "\n",
       "    .dataframe tbody tr th {\n",
       "        vertical-align: top;\n",
       "    }\n",
       "\n",
       "    .dataframe thead th {\n",
       "        text-align: right;\n",
       "    }\n",
       "</style>\n",
       "<table border=\"1\" class=\"dataframe\">\n",
       "  <thead>\n",
       "    <tr style=\"text-align: right;\">\n",
       "      <th></th>\n",
       "      <th>category</th>\n",
       "      <th>proportion</th>\n",
       "    </tr>\n",
       "  </thead>\n",
       "  <tbody>\n",
       "    <tr>\n",
       "      <th>0</th>\n",
       "      <td>Sports &amp; Outdoors</td>\n",
       "      <td>0.34</td>\n",
       "    </tr>\n",
       "    <tr>\n",
       "      <th>1</th>\n",
       "      <td>Beauty</td>\n",
       "      <td>0.01</td>\n",
       "    </tr>\n",
       "    <tr>\n",
       "      <th>2</th>\n",
       "      <td>Handmade Clothing, Shoes &amp; Accessories</td>\n",
       "      <td>0.01</td>\n",
       "    </tr>\n",
       "    <tr>\n",
       "      <th>3</th>\n",
       "      <td>Bath &amp; Body</td>\n",
       "      <td>0.01</td>\n",
       "    </tr>\n",
       "    <tr>\n",
       "      <th>4</th>\n",
       "      <td>Birthday Gifts</td>\n",
       "      <td>0.01</td>\n",
       "    </tr>\n",
       "    <tr>\n",
       "      <th>...</th>\n",
       "      <td>...</td>\n",
       "      <td>...</td>\n",
       "    </tr>\n",
       "    <tr>\n",
       "      <th>291</th>\n",
       "      <td>Alexa Built-In Devices</td>\n",
       "      <td>0.00</td>\n",
       "    </tr>\n",
       "    <tr>\n",
       "      <th>292</th>\n",
       "      <td>Motorbike Chassis</td>\n",
       "      <td>0.00</td>\n",
       "    </tr>\n",
       "    <tr>\n",
       "      <th>293</th>\n",
       "      <td>Plugs</td>\n",
       "      <td>0.00</td>\n",
       "    </tr>\n",
       "    <tr>\n",
       "      <th>294</th>\n",
       "      <td>Smart Home Security &amp; Lighting</td>\n",
       "      <td>0.00</td>\n",
       "    </tr>\n",
       "    <tr>\n",
       "      <th>295</th>\n",
       "      <td>Smart Speakers</td>\n",
       "      <td>0.00</td>\n",
       "    </tr>\n",
       "  </tbody>\n",
       "</table>\n",
       "<p>296 rows × 2 columns</p>\n",
       "</div>"
      ],
      "text/plain": [
       "                                   category  proportion\n",
       "0                         Sports & Outdoors        0.34\n",
       "1                                    Beauty        0.01\n",
       "2    Handmade Clothing, Shoes & Accessories        0.01\n",
       "3                               Bath & Body        0.01\n",
       "4                            Birthday Gifts        0.01\n",
       "..                                      ...         ...\n",
       "291                  Alexa Built-In Devices        0.00\n",
       "292                       Motorbike Chassis        0.00\n",
       "293                                   Plugs        0.00\n",
       "294          Smart Home Security & Lighting        0.00\n",
       "295                          Smart Speakers        0.00\n",
       "\n",
       "[296 rows x 2 columns]"
      ]
     },
     "execution_count": 15,
     "metadata": {},
     "output_type": "execute_result"
    }
   ],
   "source": [
    "#Relative Frequency Table for Products\n",
    "\n",
    "freq_rel_amz_price_table = amz_price_df[\"category\"].value_counts(normalize=True).round(2).reset_index()\n",
    "freq_rel_amz_price_table\n"
   ]
  },
  {
   "cell_type": "code",
   "execution_count": 16,
   "metadata": {},
   "outputs": [
    {
     "data": {
      "text/html": [
       "<div>\n",
       "<style scoped>\n",
       "    .dataframe tbody tr th:only-of-type {\n",
       "        vertical-align: middle;\n",
       "    }\n",
       "\n",
       "    .dataframe tbody tr th {\n",
       "        vertical-align: top;\n",
       "    }\n",
       "\n",
       "    .dataframe thead th {\n",
       "        text-align: right;\n",
       "    }\n",
       "</style>\n",
       "<table border=\"1\" class=\"dataframe\">\n",
       "  <thead>\n",
       "    <tr style=\"text-align: right;\">\n",
       "      <th></th>\n",
       "      <th>categorie</th>\n",
       "      <th>relative_frequency</th>\n",
       "    </tr>\n",
       "  </thead>\n",
       "  <tbody>\n",
       "    <tr>\n",
       "      <th>0</th>\n",
       "      <td>Sports &amp; Outdoors</td>\n",
       "      <td>0.34</td>\n",
       "    </tr>\n",
       "    <tr>\n",
       "      <th>1</th>\n",
       "      <td>Beauty</td>\n",
       "      <td>0.01</td>\n",
       "    </tr>\n",
       "    <tr>\n",
       "      <th>2</th>\n",
       "      <td>Handmade Clothing, Shoes &amp; Accessories</td>\n",
       "      <td>0.01</td>\n",
       "    </tr>\n",
       "    <tr>\n",
       "      <th>3</th>\n",
       "      <td>Bath &amp; Body</td>\n",
       "      <td>0.01</td>\n",
       "    </tr>\n",
       "    <tr>\n",
       "      <th>4</th>\n",
       "      <td>Birthday Gifts</td>\n",
       "      <td>0.01</td>\n",
       "    </tr>\n",
       "    <tr>\n",
       "      <th>...</th>\n",
       "      <td>...</td>\n",
       "      <td>...</td>\n",
       "    </tr>\n",
       "    <tr>\n",
       "      <th>291</th>\n",
       "      <td>Alexa Built-In Devices</td>\n",
       "      <td>0.00</td>\n",
       "    </tr>\n",
       "    <tr>\n",
       "      <th>292</th>\n",
       "      <td>Motorbike Chassis</td>\n",
       "      <td>0.00</td>\n",
       "    </tr>\n",
       "    <tr>\n",
       "      <th>293</th>\n",
       "      <td>Plugs</td>\n",
       "      <td>0.00</td>\n",
       "    </tr>\n",
       "    <tr>\n",
       "      <th>294</th>\n",
       "      <td>Smart Home Security &amp; Lighting</td>\n",
       "      <td>0.00</td>\n",
       "    </tr>\n",
       "    <tr>\n",
       "      <th>295</th>\n",
       "      <td>Smart Speakers</td>\n",
       "      <td>0.00</td>\n",
       "    </tr>\n",
       "  </tbody>\n",
       "</table>\n",
       "<p>296 rows × 2 columns</p>\n",
       "</div>"
      ],
      "text/plain": [
       "                                  categorie  relative_frequency\n",
       "0                         Sports & Outdoors                0.34\n",
       "1                                    Beauty                0.01\n",
       "2    Handmade Clothing, Shoes & Accessories                0.01\n",
       "3                               Bath & Body                0.01\n",
       "4                            Birthday Gifts                0.01\n",
       "..                                      ...                 ...\n",
       "291                  Alexa Built-In Devices                0.00\n",
       "292                       Motorbike Chassis                0.00\n",
       "293                                   Plugs                0.00\n",
       "294          Smart Home Security & Lighting                0.00\n",
       "295                          Smart Speakers                0.00\n",
       "\n",
       "[296 rows x 2 columns]"
      ]
     },
     "execution_count": 16,
     "metadata": {},
     "output_type": "execute_result"
    }
   ],
   "source": [
    "#Define Column Names\n",
    "\n",
    "freq_rel_amz_price_table.columns = [\"categorie\", \"relative_frequency\"]\n",
    "freq_rel_amz_price_table"
   ]
  },
  {
   "cell_type": "code",
   "execution_count": 17,
   "metadata": {},
   "outputs": [
    {
     "data": {
      "text/html": [
       "<div>\n",
       "<style scoped>\n",
       "    .dataframe tbody tr th:only-of-type {\n",
       "        vertical-align: middle;\n",
       "    }\n",
       "\n",
       "    .dataframe tbody tr th {\n",
       "        vertical-align: top;\n",
       "    }\n",
       "\n",
       "    .dataframe thead th {\n",
       "        text-align: right;\n",
       "    }\n",
       "</style>\n",
       "<table border=\"1\" class=\"dataframe\">\n",
       "  <thead>\n",
       "    <tr style=\"text-align: right;\">\n",
       "      <th></th>\n",
       "      <th>categorie</th>\n",
       "      <th>relative_frequency</th>\n",
       "    </tr>\n",
       "  </thead>\n",
       "  <tbody>\n",
       "    <tr>\n",
       "      <th>0</th>\n",
       "      <td>Sports &amp; Outdoors</td>\n",
       "      <td>0.34</td>\n",
       "    </tr>\n",
       "    <tr>\n",
       "      <th>1</th>\n",
       "      <td>Beauty</td>\n",
       "      <td>0.01</td>\n",
       "    </tr>\n",
       "    <tr>\n",
       "      <th>2</th>\n",
       "      <td>Handmade Clothing, Shoes &amp; Accessories</td>\n",
       "      <td>0.01</td>\n",
       "    </tr>\n",
       "    <tr>\n",
       "      <th>3</th>\n",
       "      <td>Bath &amp; Body</td>\n",
       "      <td>0.01</td>\n",
       "    </tr>\n",
       "    <tr>\n",
       "      <th>4</th>\n",
       "      <td>Birthday Gifts</td>\n",
       "      <td>0.01</td>\n",
       "    </tr>\n",
       "  </tbody>\n",
       "</table>\n",
       "</div>"
      ],
      "text/plain": [
       "                                categorie  relative_frequency\n",
       "0                       Sports & Outdoors                0.34\n",
       "1                                  Beauty                0.01\n",
       "2  Handmade Clothing, Shoes & Accessories                0.01\n",
       "3                             Bath & Body                0.01\n",
       "4                          Birthday Gifts                0.01"
      ]
     },
     "execution_count": 17,
     "metadata": {},
     "output_type": "execute_result"
    }
   ],
   "source": [
    "#Top 5 Most Listed Product Categories\n",
    "\n",
    "top5_freq_rel_amz_price_table = freq_rel_amz_price_table.head()\n",
    "top5_freq_rel_amz_price_table"
   ]
  },
  {
   "cell_type": "markdown",
   "metadata": {},
   "source": [
    "2. **Visualizations**:\n",
    "    - Display the distribution of products across different categories using a bar chart. *If you face problems understanding the chart, do it for a subset of top categories.*\n",
    "    - For a subset of top categories, visualize their proportions using a pie chart. Does any category dominate the listings?"
   ]
  },
  {
   "cell_type": "markdown",
   "metadata": {},
   "source": [
    "Bar Chart of Product Categories (ALL CATEGORIES)"
   ]
  },
  {
   "cell_type": "code",
   "execution_count": 18,
   "metadata": {},
   "outputs": [
    {
     "name": "stderr",
     "output_type": "stream",
     "text": [
      "C:\\Users\\dalmi\\AppData\\Local\\Temp\\ipykernel_27376\\4181320323.py:1: FutureWarning: \n",
      "\n",
      "Passing `palette` without assigning `hue` is deprecated and will be removed in v0.14.0. Assign the `x` variable to `hue` and set `legend=False` for the same effect.\n",
      "\n",
      "  sns.barplot(\n"
     ]
    },
    {
     "data": {
      "image/png": "[encoded data removed]",
      "text/plain": [
       "<Figure size 640x480 with 1 Axes>"
      ]
     },
     "metadata": {},
     "output_type": "display_data"
    }
   ],
   "source": [
    "sns.barplot(\n",
    "    x='categorie',\n",
    "    y='absolute_frequency',\n",
    "    data=top5_freq_abs_amz_price_table,\n",
    "    palette='viridis',\n",
    ")\n",
    "plt.show()"
   ]
  },
  {
   "cell_type": "markdown",
   "metadata": {},
   "source": [
    "Bar Chart of Product Categories (TOP 5 CATEGORIES)\n"
   ]
  },
  {
   "cell_type": "code",
   "execution_count": 20,
   "metadata": {},
   "outputs": [
    {
     "name": "stderr",
     "output_type": "stream",
     "text": [
      "C:\\Users\\dalmi\\AppData\\Local\\Temp\\ipykernel_27376\\4181320323.py:1: FutureWarning: \n",
      "\n",
      "Passing `palette` without assigning `hue` is deprecated and will be removed in v0.14.0. Assign the `x` variable to `hue` and set `legend=False` for the same effect.\n",
      "\n",
      "  sns.barplot(\n"
     ]
    },
    {
     "data": {
      "image/png": "[encoded data removed]",
      "text/plain": [
       "<Figure size 640x480 with 1 Axes>"
      ]
     },
     "metadata": {},
     "output_type": "display_data"
    }
   ],
   "source": [
    "sns.barplot(\n",
    "    x='categorie',\n",
    "    y='absolute_frequency',\n",
    "    data=top5_freq_abs_amz_price_table,\n",
    "    palette='viridis',\n",
    ")\n",
    "plt.show()"
   ]
  },
  {
   "cell_type": "markdown",
   "metadata": {},
   "source": [
    "Pie Chart of Product Categories (TOP 5 CATEGORIES)"
   ]
  },
  {
   "cell_type": "code",
   "execution_count": 21,
   "metadata": {},
   "outputs": [
    {
     "data": {
      "image/png": "[encoded data removed]",
      "text/plain": [
       "<Figure size 640x480 with 1 Axes>"
      ]
     },
     "metadata": {},
     "output_type": "display_data"
    }
   ],
   "source": [
    "#Use Relative Frequency for Pie Chart\n",
    "\n",
    "top5_freq_abs_amz_price_table.plot.pie(\n",
    "    y='absolute_frequency',  # Especifica la columna de valores\n",
    "    labels=top5_freq_abs_amz_price_table['categorie'],  # Muestra las categorías\n",
    "    autopct='%1.2f%%',\n",
    "    startangle=90,\n",
    "    colors=sns.color_palette('Set2')\n",
    ")\n",
    "plt.ylabel('')  # Opcional: elimina el título de la columna 'relative_frequency'\n",
    "plt.show()"
   ]
  },
  {
   "cell_type": "markdown",
   "metadata": {},
   "source": [
    "<h1>Part 2: Delving into Product Pricing</h1>\n",
    "\n",
    "**Business Question**: How are products priced on Amazon UK, and are there specific price points or ranges that are more common?"
   ]
  },
  {
   "cell_type": "markdown",
   "metadata": {},
   "source": [
    "1. **Measures of Centrality**:\n",
    "    - Calculate the mean, median, and mode for the `price` of products.\n",
    "    - What's the average price point of products listed? How does this compare with the most common price point (mode)?"
   ]
  },
  {
   "cell_type": "markdown",
   "metadata": {},
   "source": [
    "Statistics of Price Products"
   ]
  },
  {
   "cell_type": "code",
   "execution_count": 22,
   "metadata": {},
   "outputs": [
    {
     "data": {
      "text/plain": [
       "89.24380943923663"
      ]
     },
     "execution_count": 22,
     "metadata": {},
     "output_type": "execute_result"
    }
   ],
   "source": [
    "#Mean\n",
    "\n",
    "amz_price_df[\"price\"].mean()"
   ]
  },
  {
   "cell_type": "code",
   "execution_count": 23,
   "metadata": {},
   "outputs": [
    {
     "data": {
      "text/plain": [
       "19.09"
      ]
     },
     "execution_count": 23,
     "metadata": {},
     "output_type": "execute_result"
    }
   ],
   "source": [
    "#Median\n",
    "\n",
    "amz_price_df[\"price\"].median()"
   ]
  },
  {
   "cell_type": "code",
   "execution_count": 24,
   "metadata": {},
   "outputs": [
    {
     "data": {
      "text/plain": [
       "0    9.99\n",
       "Name: price, dtype: float64"
      ]
     },
     "execution_count": 24,
     "metadata": {},
     "output_type": "execute_result"
    }
   ],
   "source": [
    "#Mode\n",
    "\n",
    "amz_price_df[\"price\"].mode()\n"
   ]
  },
  {
   "cell_type": "code",
   "execution_count": 25,
   "metadata": {},
   "outputs": [],
   "source": [
    "#La media de precios = 89.24 es mucho mayor que el valor más frecuente = 9.99, lo que significa que \n",
    "#la mayoría de los datos se agrupan en valores más bajos, pero hay precios altos que elevan la moda\n",
    "#y generan una cola hacia la derecha en la distribución (positiva)."
   ]
  },
  {
   "cell_type": "markdown",
   "metadata": {},
   "source": [
    "2. **Measures of Dispersion**:\n",
    "    - Determine the variance, standard deviation, range, and interquartile range for product `price`.\n",
    "    - How varied are the product prices? Are there any indicators of a significant spread in prices?\n"
   ]
  },
  {
   "cell_type": "markdown",
   "metadata": {},
   "source": [
    "Statistics of Price Products"
   ]
  },
  {
   "cell_type": "code",
   "execution_count": 26,
   "metadata": {},
   "outputs": [
    {
     "data": {
      "text/plain": [
       "119445.48532256528"
      ]
     },
     "execution_count": 26,
     "metadata": {},
     "output_type": "execute_result"
    }
   ],
   "source": [
    "#Variance\n",
    "\n",
    "amz_price_df[\"price\"].var() #dispersión significativa de los precios alrededor de la media."
   ]
  },
  {
   "cell_type": "code",
   "execution_count": 27,
   "metadata": {},
   "outputs": [
    {
     "data": {
      "text/plain": [
       "345.60886175352226"
      ]
     },
     "execution_count": 27,
     "metadata": {},
     "output_type": "execute_result"
    }
   ],
   "source": [
    "#Standadrd Deviation\n",
    "\n",
    "amz_price_df[\"price\"].std() # los precios de los productos se desvían mucho del promedio, reflejando una gran variación entre los valores."
   ]
  },
  {
   "cell_type": "code",
   "execution_count": 28,
   "metadata": {},
   "outputs": [
    {
     "data": {
      "text/plain": [
       "36.0"
      ]
     },
     "execution_count": 28,
     "metadata": {},
     "output_type": "execute_result"
    }
   ],
   "source": [
    "#Interquartile range\n",
    "\n",
    "q1 = amz_price_df[\"price\"].quantile(0.25)\n",
    "q3 = amz_price_df[\"price\"].quantile(0.75)\n",
    "iqr = q3 - q1\n",
    "iqr\n",
    "#un IQR de 36 significa que los precios en el 50% central de los datos (entre el primer y tercer cuartil)\n",
    "# presentan una dispersión notable, lo que indica diferencias importantes en los precios medianos."
   ]
  },
  {
   "cell_type": "code",
   "execution_count": 29,
   "metadata": {},
   "outputs": [],
   "source": [
    "#En conjunto, estos valores muestran una amplia variabilidad y un rango significativo en los \n",
    "# precios de los productos, lo que podría ser resultado de una mezcla de productos de bajo y \n",
    "# alto costo."
   ]
  },
  {
   "cell_type": "markdown",
   "metadata": {},
   "source": [
    "3. **Visualizations**:\n",
    "    - Is there a specific price range where most products fall? Plot a histogram to visualize the distribution of product prices. *If its hard to read these diagrams, think why this is, and explain how it could be solved.*.\n",
    "    - Are there products that are priced significantly higher than the rest? Use a box plot to showcase the spread and potential outliers in product pricing. "
   ]
  },
  {
   "cell_type": "markdown",
   "metadata": {},
   "source": [
    "Histogram of Prices"
   ]
  },
  {
   "cell_type": "code",
   "execution_count": 30,
   "metadata": {},
   "outputs": [
    {
     "data": {
      "image/png": "[encoded data removed]",
      "text/plain": [
       "<Figure size 640x480 with 1 Axes>"
      ]
     },
     "metadata": {},
     "output_type": "display_data"
    }
   ],
   "source": [
    "sns.histplot(amz_price_df.price, bins=50)\n",
    "plt.show()"
   ]
  },
  {
   "cell_type": "code",
   "execution_count": 31,
   "metadata": {},
   "outputs": [],
   "source": [
    "#Si bien en el gráfico no podemos visualizar qué precio es el que mas se repite, podemos sacarlo con la \n",
    "#moda. Es decir que el precio que más se repite es 9.99 euros."
   ]
  },
  {
   "cell_type": "markdown",
   "metadata": {},
   "source": [
    "Box Plot"
   ]
  },
  {
   "cell_type": "code",
   "execution_count": 32,
   "metadata": {},
   "outputs": [
    {
     "data": {
      "image/png": "[encoded data removed]",
      "text/plain": [
       "<Figure size 640x480 with 1 Axes>"
      ]
     },
     "metadata": {},
     "output_type": "display_data"
    }
   ],
   "source": [
    "sns.boxplot(data=amz_price_df.price)\n",
    "plt.show()"
   ]
  },
  {
   "cell_type": "code",
   "execution_count": 33,
   "metadata": {},
   "outputs": [],
   "source": [
    "#Podemos apreciar en el gráfico de caja que los precios más altos son de 100.000 y 80.000 euros"
   ]
  },
  {
   "cell_type": "markdown",
   "metadata": {},
   "source": [
    "<h1>Part 3: Unpacking Product Ratings</h1>"
   ]
  },
  {
   "cell_type": "markdown",
   "metadata": {},
   "source": [
    "**Business Question**: How do customers rate products on Amazon UK, and are there any patterns or tendencies in the ratings?\n"
   ]
  },
  {
   "cell_type": "markdown",
   "metadata": {},
   "source": [
    "1. **Measures of Centrality**:\n",
    "    - Calculate the mean, median, and mode for the `rating` of products.\n",
    "    - How do customers generally rate products? Is there a common trend?"
   ]
  },
  {
   "cell_type": "code",
   "execution_count": 34,
   "metadata": {},
   "outputs": [
    {
     "data": {
      "text/plain": [
       "2.152836472966065"
      ]
     },
     "execution_count": 34,
     "metadata": {},
     "output_type": "execute_result"
    }
   ],
   "source": [
    "#Mean\n",
    "\n",
    "amz_price_df[\"stars\"].mean()"
   ]
  },
  {
   "cell_type": "code",
   "execution_count": 35,
   "metadata": {},
   "outputs": [
    {
     "data": {
      "text/plain": [
       "0.0"
      ]
     },
     "execution_count": 35,
     "metadata": {},
     "output_type": "execute_result"
    }
   ],
   "source": [
    "#Median\n",
    "\n",
    "amz_price_df[\"stars\"].median()"
   ]
  },
  {
   "cell_type": "code",
   "execution_count": 36,
   "metadata": {},
   "outputs": [
    {
     "data": {
      "text/plain": [
       "0    0.0\n",
       "Name: stars, dtype: float64"
      ]
     },
     "execution_count": 36,
     "metadata": {},
     "output_type": "execute_result"
    }
   ],
   "source": [
    "#Mode\n",
    "\n",
    "amz_price_df[\"stars\"].mode()"
   ]
  },
  {
   "cell_type": "code",
   "execution_count": 37,
   "metadata": {},
   "outputs": [],
   "source": [
    "#Los clientes por lo general ponen un 0 de puntuación a los productos si observamos la moda."
   ]
  },
  {
   "cell_type": "markdown",
   "metadata": {},
   "source": [
    "2. **Measures of Dispersion**:\n",
    "    - Determine the variance, standard deviation, and interquartile range for product `rating`.\n",
    "    - Are the ratings consistent, or is there a wide variation in customer feedback?"
   ]
  },
  {
   "cell_type": "code",
   "execution_count": 38,
   "metadata": {},
   "outputs": [
    {
     "data": {
      "text/plain": [
       "4.81743402976196"
      ]
     },
     "execution_count": 38,
     "metadata": {},
     "output_type": "execute_result"
    }
   ],
   "source": [
    "#Variance\n",
    "\n",
    "amz_price_df[\"stars\"].var()"
   ]
  },
  {
   "cell_type": "code",
   "execution_count": 39,
   "metadata": {},
   "outputs": [
    {
     "data": {
      "text/plain": [
       "2.1948653785054697"
      ]
     },
     "execution_count": 39,
     "metadata": {},
     "output_type": "execute_result"
    }
   ],
   "source": [
    "#Standard Deviation\n",
    "\n",
    "amz_price_df[\"stars\"].std()"
   ]
  },
  {
   "cell_type": "code",
   "execution_count": 40,
   "metadata": {},
   "outputs": [
    {
     "data": {
      "text/plain": [
       "4.4"
      ]
     },
     "execution_count": 40,
     "metadata": {},
     "output_type": "execute_result"
    }
   ],
   "source": [
    "#Interquartile range\n",
    "\n",
    "q1 = amz_price_df[\"stars\"].quantile(0.25)\n",
    "q3 = amz_price_df[\"stars\"].quantile(0.75)\n",
    "iqr = q3 - q1\n",
    "iqr"
   ]
  },
  {
   "cell_type": "code",
   "execution_count": 41,
   "metadata": {},
   "outputs": [],
   "source": [
    "#Podemos ver una amplia variación en las puntuaciones de los clientes y una tendencia a las \n",
    "#calificaciones bajas o nulas. O bien puede ser que se puntua 0 si el cliente no califica,\n",
    "#y eso puede generar estos valores en las estadísticas."
   ]
  },
  {
   "cell_type": "markdown",
   "metadata": {},
   "source": [
    "3. **Shape of the Distribution**:\n",
    "    - Calculate the skewness and kurtosis for the `rating` column. \n",
    "    - Are the ratings normally distributed, or do they lean towards higher or lower values?\n"
   ]
  },
  {
   "cell_type": "code",
   "execution_count": 42,
   "metadata": {},
   "outputs": [
    {
     "data": {
      "text/plain": [
       "0.08"
      ]
     },
     "execution_count": 42,
     "metadata": {},
     "output_type": "execute_result"
    }
   ],
   "source": [
    "#Skewness (sesgo)\n",
    "#- Skewness = 0: The distribution is perfectly symmetrical, resembling a normal distribution.\n",
    "#- Skewness > 0: The distribution is positively skewed (or right-skewed), meaning there is a longer tail on the right side of the distribution. The mass of the distribution is concentrated on the left of the figure.\n",
    "#- Skewness < 0: The distribution is negatively skewed (or left-skewed), meaning there is a longer tail on the left side of the distribution. The mass of the distribution is concentrated on the right of the figure.\n",
    "\n",
    "amz_price_df.stars.skew().round(2)"
   ]
  },
  {
   "cell_type": "code",
   "execution_count": 43,
   "metadata": {},
   "outputs": [],
   "source": [
    "#Como el valor del sesgo nos da mayor que 0, significa que los valores estan concentrados principalmente \n",
    "#a la derecha de la campana de la distribución."
   ]
  },
  {
   "cell_type": "markdown",
   "metadata": {},
   "source": [
    "4. **Visualizations**:\n",
    "    - Plot a histogram to visualize the distribution of product ratings. Is there a specific rating that is more common?"
   ]
  },
  {
   "cell_type": "markdown",
   "metadata": {},
   "source": [
    "Histogram of Stars"
   ]
  },
  {
   "cell_type": "code",
   "execution_count": 44,
   "metadata": {},
   "outputs": [
    {
     "data": {
      "image/png": "[encoded data removed]",
      "text/plain": [
       "<Figure size 640x480 with 1 Axes>"
      ]
     },
     "metadata": {},
     "output_type": "display_data"
    }
   ],
   "source": [
    "sns.histplot(amz_price_df.stars, bins=50)\n",
    "plt.show()"
   ]
  },
  {
   "cell_type": "code",
   "execution_count": 45,
   "metadata": {},
   "outputs": [],
   "source": [
    "#Se puede ver claramente que la puntuación de 0 es la más común."
   ]
  }
 ],
 "metadata": {
  "kernelspec": {
   "display_name": "base",
   "language": "python",
   "name": "python3"
  },
  "language_info": {
   "codemirror_mode": {
    "name": "ipython",
    "version": 3
   },
   "file_extension": ".py",
   "mimetype": "text/x-python",
   "name": "python",
   "nbconvert_exporter": "python",
   "pygments_lexer": "ipython3",
   "version": "3.12.4"
  }
 },
 "nbformat": 4,
 "nbformat_minor": 2
}
